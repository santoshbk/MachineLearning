{
 "cells": [
  {
   "cell_type": "markdown",
   "metadata": {},
   "source": [
    "# How to Sample Data in Python"
   ]
  },
  {
   "cell_type": "markdown",
   "metadata": {},
   "source": [
    "## Learning Objectives\n",
    "In order to get an unbiased assessment of the performance of a supervised machine learning model, we need to evaluate it based on data that it did not previously encounter during the training process. To accomplish this, we must first split our data into a training subset and a test subset prior to the model build stage. One common way to split data in this fashion is by creating non-overlapping subsets of the original data using one of several **sampling** approaches. By the end of the tutorial, you will have learned:\n",
    "\n",
    "+ how to split data using simple random sampling\n",
    "+ how to split data using stratified random sampling"
   ]
  },
  {
   "cell_type": "code",
   "execution_count": 12,
   "metadata": {
    "colab": {},
    "colab_type": "code",
    "id": "ZBtXnome3fr0",
    "scrolled": false
   },
   "outputs": [
    {
     "data": {
      "text/plain": "   citympg  cylinders  displacement             drive  highwaympg      make  \\\n0     14.0          6           4.1     2-Wheel Drive        19.0     Buick   \n1     14.0          8           5.0     2-Wheel Drive        20.0     Buick   \n2     18.0          8           5.7     2-Wheel Drive        26.0     Buick   \n3     21.0          6           4.3  Rear-Wheel Drive        31.0  Cadillac   \n4     14.0          8           4.1  Rear-Wheel Drive        19.0  Cadillac   \n\n                     model       class  year transmissiontype  \\\n0      Electra/Park Avenue  Large Cars  1984        Automatic   \n1      Electra/Park Avenue  Large Cars  1984        Automatic   \n2      Electra/Park Avenue  Large Cars  1984        Automatic   \n3  Fleetwood/DeVille (FWD)  Large Cars  1984        Automatic   \n4   Brougham/DeVille (RWD)  Large Cars  1984        Automatic   \n\n   transmissionspeeds  co2emissions  \n0                   4    555.437500  \n1                   4    555.437500  \n2                   4    484.761905  \n3                   4    424.166667  \n4                   4    555.437500  ",
      "text/html": "<div>\n<style scoped>\n    .dataframe tbody tr th:only-of-type {\n        vertical-align: middle;\n    }\n\n    .dataframe tbody tr th {\n        vertical-align: top;\n    }\n\n    .dataframe thead th {\n        text-align: right;\n    }\n</style>\n<table border=\"1\" class=\"dataframe\">\n  <thead>\n    <tr style=\"text-align: right;\">\n      <th></th>\n      <th>citympg</th>\n      <th>cylinders</th>\n      <th>displacement</th>\n      <th>drive</th>\n      <th>highwaympg</th>\n      <th>make</th>\n      <th>model</th>\n      <th>class</th>\n      <th>year</th>\n      <th>transmissiontype</th>\n      <th>transmissionspeeds</th>\n      <th>co2emissions</th>\n    </tr>\n  </thead>\n  <tbody>\n    <tr>\n      <th>0</th>\n      <td>14.0</td>\n      <td>6</td>\n      <td>4.1</td>\n      <td>2-Wheel Drive</td>\n      <td>19.0</td>\n      <td>Buick</td>\n      <td>Electra/Park Avenue</td>\n      <td>Large Cars</td>\n      <td>1984</td>\n      <td>Automatic</td>\n      <td>4</td>\n      <td>555.437500</td>\n    </tr>\n    <tr>\n      <th>1</th>\n      <td>14.0</td>\n      <td>8</td>\n      <td>5.0</td>\n      <td>2-Wheel Drive</td>\n      <td>20.0</td>\n      <td>Buick</td>\n      <td>Electra/Park Avenue</td>\n      <td>Large Cars</td>\n      <td>1984</td>\n      <td>Automatic</td>\n      <td>4</td>\n      <td>555.437500</td>\n    </tr>\n    <tr>\n      <th>2</th>\n      <td>18.0</td>\n      <td>8</td>\n      <td>5.7</td>\n      <td>2-Wheel Drive</td>\n      <td>26.0</td>\n      <td>Buick</td>\n      <td>Electra/Park Avenue</td>\n      <td>Large Cars</td>\n      <td>1984</td>\n      <td>Automatic</td>\n      <td>4</td>\n      <td>484.761905</td>\n    </tr>\n    <tr>\n      <th>3</th>\n      <td>21.0</td>\n      <td>6</td>\n      <td>4.3</td>\n      <td>Rear-Wheel Drive</td>\n      <td>31.0</td>\n      <td>Cadillac</td>\n      <td>Fleetwood/DeVille (FWD)</td>\n      <td>Large Cars</td>\n      <td>1984</td>\n      <td>Automatic</td>\n      <td>4</td>\n      <td>424.166667</td>\n    </tr>\n    <tr>\n      <th>4</th>\n      <td>14.0</td>\n      <td>8</td>\n      <td>4.1</td>\n      <td>Rear-Wheel Drive</td>\n      <td>19.0</td>\n      <td>Cadillac</td>\n      <td>Brougham/DeVille (RWD)</td>\n      <td>Large Cars</td>\n      <td>1984</td>\n      <td>Automatic</td>\n      <td>4</td>\n      <td>555.437500</td>\n    </tr>\n  </tbody>\n</table>\n</div>"
     },
     "execution_count": 12,
     "metadata": {},
     "output_type": "execute_result"
    }
   ],
   "source": [
    "import pandas as pd\n",
    "vehicles = pd.read_csv(\"vehicles.csv\")\n",
    "vehicles.head()"
   ]
  },
  {
   "cell_type": "code",
   "execution_count": 17,
   "metadata": {
    "scrolled": true
   },
   "outputs": [
    {
     "data": {
      "text/plain": "   co2emissions\n0    555.437500\n1    555.437500\n2    484.761905\n3    424.166667\n4    555.437500",
      "text/html": "<div>\n<style scoped>\n    .dataframe tbody tr th:only-of-type {\n        vertical-align: middle;\n    }\n\n    .dataframe tbody tr th {\n        vertical-align: top;\n    }\n\n    .dataframe thead th {\n        text-align: right;\n    }\n</style>\n<table border=\"1\" class=\"dataframe\">\n  <thead>\n    <tr style=\"text-align: right;\">\n      <th></th>\n      <th>co2emissions</th>\n    </tr>\n  </thead>\n  <tbody>\n    <tr>\n      <th>0</th>\n      <td>555.437500</td>\n    </tr>\n    <tr>\n      <th>1</th>\n      <td>555.437500</td>\n    </tr>\n    <tr>\n      <th>2</th>\n      <td>484.761905</td>\n    </tr>\n    <tr>\n      <th>3</th>\n      <td>424.166667</td>\n    </tr>\n    <tr>\n      <th>4</th>\n      <td>555.437500</td>\n    </tr>\n  </tbody>\n</table>\n</div>"
     },
     "execution_count": 17,
     "metadata": {},
     "output_type": "execute_result"
    }
   ],
   "source": [
    "response = 'co2emissions'\n",
    "y = vehicles[[response]]\n",
    "y.head()"
   ]
  },
  {
   "cell_type": "code",
   "execution_count": 23,
   "metadata": {},
   "outputs": [
    {
     "data": {
      "text/plain": "['citympg',\n 'cylinders',\n 'displacement',\n 'drive',\n 'highwaympg',\n 'make',\n 'model',\n 'class',\n 'year',\n 'transmissiontype',\n 'transmissionspeeds',\n 'co2emissions']"
     },
     "execution_count": 23,
     "metadata": {},
     "output_type": "execute_result"
    }
   ],
   "source": [
    "predictors = list(vehicles.columns)\n",
    "predictors"
   ]
  },
  {
   "cell_type": "code",
   "execution_count": 24,
   "metadata": {},
   "outputs": [
    {
     "data": {
      "text/plain": "['citympg',\n 'cylinders',\n 'displacement',\n 'drive',\n 'highwaympg',\n 'make',\n 'model',\n 'class',\n 'year',\n 'transmissiontype',\n 'transmissionspeeds']"
     },
     "execution_count": 24,
     "metadata": {},
     "output_type": "execute_result"
    }
   ],
   "source": [
    "predictors.remove(response)\n",
    "predictors"
   ]
  },
  {
   "cell_type": "code",
   "execution_count": 26,
   "metadata": {
    "scrolled": false
   },
   "outputs": [
    {
     "data": {
      "text/plain": "   citympg  cylinders  displacement             drive  highwaympg      make  \\\n0     14.0          6           4.1     2-Wheel Drive        19.0     Buick   \n1     14.0          8           5.0     2-Wheel Drive        20.0     Buick   \n2     18.0          8           5.7     2-Wheel Drive        26.0     Buick   \n3     21.0          6           4.3  Rear-Wheel Drive        31.0  Cadillac   \n4     14.0          8           4.1  Rear-Wheel Drive        19.0  Cadillac   \n\n                     model       class  year transmissiontype  \\\n0      Electra/Park Avenue  Large Cars  1984        Automatic   \n1      Electra/Park Avenue  Large Cars  1984        Automatic   \n2      Electra/Park Avenue  Large Cars  1984        Automatic   \n3  Fleetwood/DeVille (FWD)  Large Cars  1984        Automatic   \n4   Brougham/DeVille (RWD)  Large Cars  1984        Automatic   \n\n   transmissionspeeds  \n0                   4  \n1                   4  \n2                   4  \n3                   4  \n4                   4  ",
      "text/html": "<div>\n<style scoped>\n    .dataframe tbody tr th:only-of-type {\n        vertical-align: middle;\n    }\n\n    .dataframe tbody tr th {\n        vertical-align: top;\n    }\n\n    .dataframe thead th {\n        text-align: right;\n    }\n</style>\n<table border=\"1\" class=\"dataframe\">\n  <thead>\n    <tr style=\"text-align: right;\">\n      <th></th>\n      <th>citympg</th>\n      <th>cylinders</th>\n      <th>displacement</th>\n      <th>drive</th>\n      <th>highwaympg</th>\n      <th>make</th>\n      <th>model</th>\n      <th>class</th>\n      <th>year</th>\n      <th>transmissiontype</th>\n      <th>transmissionspeeds</th>\n    </tr>\n  </thead>\n  <tbody>\n    <tr>\n      <th>0</th>\n      <td>14.0</td>\n      <td>6</td>\n      <td>4.1</td>\n      <td>2-Wheel Drive</td>\n      <td>19.0</td>\n      <td>Buick</td>\n      <td>Electra/Park Avenue</td>\n      <td>Large Cars</td>\n      <td>1984</td>\n      <td>Automatic</td>\n      <td>4</td>\n    </tr>\n    <tr>\n      <th>1</th>\n      <td>14.0</td>\n      <td>8</td>\n      <td>5.0</td>\n      <td>2-Wheel Drive</td>\n      <td>20.0</td>\n      <td>Buick</td>\n      <td>Electra/Park Avenue</td>\n      <td>Large Cars</td>\n      <td>1984</td>\n      <td>Automatic</td>\n      <td>4</td>\n    </tr>\n    <tr>\n      <th>2</th>\n      <td>18.0</td>\n      <td>8</td>\n      <td>5.7</td>\n      <td>2-Wheel Drive</td>\n      <td>26.0</td>\n      <td>Buick</td>\n      <td>Electra/Park Avenue</td>\n      <td>Large Cars</td>\n      <td>1984</td>\n      <td>Automatic</td>\n      <td>4</td>\n    </tr>\n    <tr>\n      <th>3</th>\n      <td>21.0</td>\n      <td>6</td>\n      <td>4.3</td>\n      <td>Rear-Wheel Drive</td>\n      <td>31.0</td>\n      <td>Cadillac</td>\n      <td>Fleetwood/DeVille (FWD)</td>\n      <td>Large Cars</td>\n      <td>1984</td>\n      <td>Automatic</td>\n      <td>4</td>\n    </tr>\n    <tr>\n      <th>4</th>\n      <td>14.0</td>\n      <td>8</td>\n      <td>4.1</td>\n      <td>Rear-Wheel Drive</td>\n      <td>19.0</td>\n      <td>Cadillac</td>\n      <td>Brougham/DeVille (RWD)</td>\n      <td>Large Cars</td>\n      <td>1984</td>\n      <td>Automatic</td>\n      <td>4</td>\n    </tr>\n  </tbody>\n</table>\n</div>"
     },
     "execution_count": 26,
     "metadata": {},
     "output_type": "execute_result"
    }
   ],
   "source": [
    "x = vehicles[predictors]\n",
    "x.head()"
   ]
  },
  {
   "cell_type": "markdown",
   "metadata": {},
   "source": [
    "## How to split data using Simple Random Sampling"
   ]
  },
  {
   "cell_type": "code",
   "execution_count": 27,
   "metadata": {},
   "outputs": [],
   "source": [
    "from sklearn.model_selection import train_test_split"
   ]
  },
  {
   "cell_type": "code",
   "execution_count": 28,
   "metadata": {},
   "outputs": [],
   "source": [
    "x_train, x_test, y_train, y_test = train_test_split(x,y)"
   ]
  },
  {
   "cell_type": "code",
   "execution_count": 29,
   "metadata": {},
   "outputs": [
    {
     "data": {
      "text/plain": "(27734, 11)"
     },
     "execution_count": 29,
     "metadata": {},
     "output_type": "execute_result"
    }
   ],
   "source": [
    "x_train.shape"
   ]
  },
  {
   "cell_type": "code",
   "execution_count": 30,
   "metadata": {},
   "outputs": [
    {
     "data": {
      "text/plain": "(27734, 1)"
     },
     "execution_count": 30,
     "metadata": {},
     "output_type": "execute_result"
    }
   ],
   "source": [
    "y_train.shape"
   ]
  },
  {
   "cell_type": "code",
   "execution_count": 31,
   "metadata": {},
   "outputs": [
    {
     "data": {
      "text/plain": "(9245, 11)"
     },
     "execution_count": 31,
     "metadata": {},
     "output_type": "execute_result"
    }
   ],
   "source": [
    "x_test.shape"
   ]
  },
  {
   "cell_type": "code",
   "execution_count": 32,
   "metadata": {},
   "outputs": [
    {
     "data": {
      "text/plain": "(9245, 1)"
     },
     "execution_count": 32,
     "metadata": {},
     "output_type": "execute_result"
    }
   ],
   "source": [
    "y_test.shape"
   ]
  },
  {
   "cell_type": "code",
   "execution_count": 37,
   "metadata": {},
   "outputs": [
    {
     "data": {
      "text/plain": "(36610, 11)"
     },
     "execution_count": 37,
     "metadata": {},
     "output_type": "execute_result"
    }
   ],
   "source": [
    "x_train, x_test, y_train, y_test = train_test_split(x, y,\n",
    "                                                    test_size=0.99)\n",
    "x_test.shape"
   ]
  },
  {
   "cell_type": "markdown",
   "metadata": {},
   "source": [
    "## How to split data using Stratified Random Sampling"
   ]
  },
  {
   "cell_type": "code",
   "execution_count": 38,
   "metadata": {},
   "outputs": [],
   "source": [
    "x_train, x_test, y_train, y_test = train_test_split(x, y, \n",
    "                                                    test_size = 0.01, \n",
    "                                                    random_state = 1234)"
   ]
  },
  {
   "cell_type": "code",
   "execution_count": 39,
   "metadata": {
    "scrolled": false
   },
   "outputs": [
    {
     "data": {
      "text/plain": "Rear-Wheel Drive     0.356797\nFront-Wheel Drive    0.353552\nAll-Wheel Drive      0.239893\n4-Wheel Drive        0.036480\n2-Wheel Drive        0.013278\nName: drive, dtype: float64"
     },
     "execution_count": 39,
     "metadata": {},
     "output_type": "execute_result"
    }
   ],
   "source": [
    "x['drive'].value_counts(normalize = True)"
   ]
  },
  {
   "cell_type": "code",
   "execution_count": 40,
   "metadata": {
    "scrolled": false
   },
   "outputs": [
    {
     "data": {
      "text/plain": "Front-Wheel Drive    0.364865\nRear-Wheel Drive     0.332432\nAll-Wheel Drive      0.248649\n4-Wheel Drive        0.035135\n2-Wheel Drive        0.018919\nName: drive, dtype: float64"
     },
     "execution_count": 40,
     "metadata": {},
     "output_type": "execute_result"
    }
   ],
   "source": [
    "x_test['drive'].value_counts(normalize = True)"
   ]
  },
  {
   "cell_type": "code",
   "execution_count": 41,
   "metadata": {},
   "outputs": [],
   "source": [
    "x_train, x_test, y_train, y_test = train_test_split(x, y, \n",
    "                                                    test_size = 0.01, \n",
    "                                                    random_state = 1234,\n",
    "                                                    stratify = x['drive'])"
   ]
  },
  {
   "cell_type": "code",
   "execution_count": 42,
   "metadata": {
    "scrolled": true
   },
   "outputs": [
    {
     "data": {
      "text/plain": "Rear-Wheel Drive     0.356757\nFront-Wheel Drive    0.354054\nAll-Wheel Drive      0.240541\n4-Wheel Drive        0.035135\n2-Wheel Drive        0.013514\nName: drive, dtype: float64"
     },
     "execution_count": 42,
     "metadata": {},
     "output_type": "execute_result"
    }
   ],
   "source": [
    "x_test['drive'].value_counts(normalize = True)"
   ]
  },
  {
   "cell_type": "code",
   "execution_count": null,
   "outputs": [],
   "source": [],
   "metadata": {
    "collapsed": false
   }
  }
 ],
 "metadata": {
  "colab": {
   "collapsed_sections": [],
   "name": "3.3 - Pandas Data Selection.ipynb",
   "provenance": [],
   "toc_visible": true,
   "version": "0.3.2"
  },
  "kernelspec": {
   "display_name": "Python 3 (ipykernel)",
   "language": "python",
   "name": "python3"
  },
  "language_info": {
   "codemirror_mode": {
    "name": "ipython",
    "version": 3
   },
   "file_extension": ".py",
   "mimetype": "text/x-python",
   "name": "python",
   "nbconvert_exporter": "python",
   "pygments_lexer": "ipython3",
   "version": "3.10.9"
  }
 },
 "nbformat": 4,
 "nbformat_minor": 1
}
