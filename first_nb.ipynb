{
  "nbformat": 4,
  "nbformat_minor": 0,
  "metadata": {
    "colab": {
      "provenance": [],
      "authorship_tag": "ABX9TyN/g7vj8LOb9GfYiip7EJPA",
      "include_colab_link": true
    },
    "kernelspec": {
      "name": "python3",
      "display_name": "Python 3"
    },
    "language_info": {
      "name": "python"
    }
  },
  "cells": [
    {
      "cell_type": "markdown",
      "metadata": {
        "id": "view-in-github",
        "colab_type": "text"
      },
      "source": [
        "<a href=\"https://colab.research.google.com/github/santoshbk/machine_learning/blob/dev/first_nb.ipynb\" target=\"_parent\"><img src=\"https://colab.research.google.com/assets/colab-badge.svg\" alt=\"Open In Colab\"/></a>"
      ]
    },
    {
      "cell_type": "code",
      "execution_count": null,
      "metadata": {
        "colab": {
          "base_uri": "https://localhost:8080/"
        },
        "id": "szF9GdhqHNZG",
        "outputId": "d90da63d-050d-4949-a6dc-ca7d05b4d923"
      },
      "outputs": [
        {
          "output_type": "execute_result",
          "data": {
            "text/plain": [
              "5"
            ]
          },
          "metadata": {},
          "execution_count": 1
        }
      ],
      "source": [
        "2+3\n"
      ]
    },
    {
      "cell_type": "markdown",
      "source": [
        "\n",
        "- 9 most important Applications of Linear algebra\n",
        "\n",
        "> 1. Data Sets and data Files\n",
        "2. Images and Photographs\n",
        "3. Data Preperation\n",
        "4. Linear Regression\n",
        "5. Regularaization \n",
        "6. Principal Component Analysis\n",
        "7. Latent Symantic Analysis\n",
        "8. Recommender Systems\n",
        "9. Deep Learning\n",
        "\n",
        "\n"
      ],
      "metadata": {
        "id": "2i1salRuJXXf"
      }
    }
  ]
}